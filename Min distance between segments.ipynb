{
 "cells": [
  {
   "cell_type": "markdown",
   "metadata": {},
   "source": [
    "### Determine distance between line segments in 2D.\n",
    "\n",
    "Aims to handle many fringe cases not usually handled by generic linear algebra equations.\n",
    "\n",
    "Convention: Line segments defined by X,Y values of endpoints.\n",
    "\n",
    "Exposes intermediary support calculations."
   ]
  },
  {
   "cell_type": "code",
   "execution_count": 2,
   "metadata": {},
   "outputs": [],
   "source": [
    "import numpy as np"
   ]
  },
  {
   "cell_type": "code",
   "execution_count": 3,
   "metadata": {},
   "outputs": [
    {
     "data": {
      "text/plain": [
       "1.0"
      ]
     },
     "execution_count": 3,
     "metadata": {},
     "output_type": "execute_result"
    }
   ],
   "source": [
    "# First function calculates shortest distance between a point and an infinite line\n",
    "def point_to_inf_line(x_pt, y_pt, x_line_1, y_line_1, x_line_2, y_line_2):\n",
    "    dist = (np.abs((y_line_2 - y_line_1) * x_pt - (x_line_2 - x_line_1) * \n",
    "                   y_pt + x_line_2 * y_line_1 - y_line_2 * x_line_1) /\n",
    "            np.sqrt((y_line_2 - y_line_1)**2 + (x_line_2 - x_line_1)**2))\n",
    "    return(dist)\n",
    "\n",
    "point_to_inf_line(1,0,2,1,3,1) # returns distance 1.0"
   ]
  },
  {
   "cell_type": "code",
   "execution_count": 4,
   "metadata": {},
   "outputs": [],
   "source": [
    "# Calculate minimum distance between point and a line segment\n",
    "def point_to_line_segment(x_pt, y_pt, x_line_1, y_line_1, x_line_2, y_line_2):\n",
    "    dist_inf_line = point_to_inf_line(x_pt, y_pt, x_line_1, y_line_1, x_line_2, y_line_2)\n",
    "    \n",
    "    # define line from points, in ax + by + c = 0 form \n",
    "    # check for vertical line case\n",
    "    if x_line_1 == x_line_2:\n",
    "        line_a = 1\n",
    "        line_b = 0\n",
    "        line_c = -1 * x_line_1\n",
    "    else:\n",
    "        line_m = (y_line_2 - y_line_1) / (x_line_2 - x_line_1) # slope\n",
    "        line_int = y_line_2 - line_m * x_line_2 # y-intercept\n",
    "        line_a = -1 * line_m # put in ax + by + c = 0 form\n",
    "        line_b = 1 # assume equal to 1    \n",
    "        line_c = -1 * line_int\n",
    "    \n",
    "    # find point on line for shortest distance\n",
    "    x_int = (line_b*(line_b * x_pt - line_a * y_pt) - line_a * line_c) / (line_a ** 2 + line_b ** 2)\n",
    "    y_int = (line_a * (-1 * line_b * x_pt + line_a * y_pt) - line_b * line_c) / (line_a ** 2 + line_b ** 2)\n",
    "    \n",
    "    # if point falls in bounds of line segment, treat as infinite line for calculating distance\n",
    "    if (x_int >= np.min([x_line_1, x_line_2]) and x_int <= np.max([x_line_1, x_line_2]) and \n",
    "        y_int >= np.min([y_line_1, y_line_2]) and y_int <= np.max([y_line_1, y_line_2])):\n",
    "        return(dist_inf_line)\n",
    "    else:\n",
    "        # if nearest point not on segment, use segment endpoints as potential nearest points \n",
    "        # return shrtest distance from pt to segment endpoints\n",
    "        dist_end_pt_1 = np.sqrt((y_line_1 - y_pt)**2 + (x_line_1 - x_pt)**2)\n",
    "        dist_end_pt_2 = np.sqrt((y_line_2 - y_pt)**2 + (x_line_2 - x_pt)**2)\n",
    "        return(np.min([dist_end_pt_1, dist_end_pt_2]))\n",
    "    \n",
    "point_to_line_segment(1,0,1,1,3,1) # should equal 1\n",
    "\n",
    "point_to_line_segment(0,0,0,-1,0,1) # equal 0, point falls on line\n",
    "\n",
    "point_to_line_segment(2, 1, 0, 0, 0, 1) # vertical line"
   ]
  },
  {
   "cell_type": "code",
   "execution_count": 105,
   "metadata": {},
   "outputs": [],
   "source": [
    "def segment_to_segment(x1, y1, x2, y2, x3, y3, x4, y4):\n",
    "    \n",
    "    # center data to origin to avoid precision problems\n",
    "    # this can be encountered with survey data where points are millions of feet from datum\n",
    "    min_x = np.min([x1, x2, x3, x4])\n",
    "    min_y = np.min([y1, y2, y3, y4])\n",
    "    x1 = x1 - min_x\n",
    "    x2 = x2 - min_x\n",
    "    x3 = x3 - min_x\n",
    "    x4 = x4 - min_x\n",
    "    y1 = y1 - min_y\n",
    "    y2 = y2 - min_y\n",
    "    y3 = y3 - min_y\n",
    "    y4 = y4 - min_y\n",
    "    \n",
    "    # check vertical lines\n",
    "    if x1 == x2 and x3 == x4: # if both vertical\n",
    "        # then flip x and y axes, so that slope is not Inf\n",
    "        min_dist = np.min([point_to_line_segment(y1, x1, y3, x3, y4, x4),\n",
    "                           point_to_line_segment(y2, x2, y3, x3, y4, x4),\n",
    "                           point_to_line_segment(y3, x3, y1, x1, y2, x2),\n",
    "                           point_to_line_segment(y4, x4, y1, x1, y2, x2)])\n",
    "        return(min_dist)\n",
    "    # find intersection between the 2 as infinite lines\n",
    "    elif x1 == x2: # if first vertical\n",
    "        x_int = x1\n",
    "        y_int = (y4 - y3)/(x4 - x3)*(x_int - x3) + y3 # point-slope intercept form\n",
    "    elif x3 == x4: # if second vertical\n",
    "        x_int = x3\n",
    "        y_int = (y2 - y1)/(x2 - x1)*(x_int - x1) + y1 # point-slope intercept form\n",
    "    elif (y2 - y1)/(x2 - x1) == (y4 - y3)/(x4 - x3): # if parallel lines\n",
    "        min_dist = np.min([point_to_line_segment(x1, y1, x3, y3, x4, y4),\n",
    "                           point_to_line_segment(x2, y2, x3, y3, x4, y4),\n",
    "                           point_to_line_segment(x3, y3, x1, y1, x2, y2),\n",
    "                           point_to_line_segment(x4, y4, x1, y1, x2, y2)])\n",
    "        return(min_dist)        \n",
    "    else:\n",
    "        x_int = (((x1 * y2 - y1 * x2) * (x3 - x4) - (x1 - x2) * (x3*y4 - y3 * x4)) /\n",
    "                 (x1 - x2) * (y3 - y4) - (y1 - y2) * (x3 - x4))\n",
    "        y_int = (((x1 * y2 - y1 * x2) * (y3 - y4) - (y1 - y2) * (x3 * y4 - y3 * x4))/\n",
    "                 ((x1 - x2) * (y3 - y4) - (y1 - y2) * (x3 - x4)))\n",
    "        \n",
    "    # check intersection    \n",
    "    if (x_int >= np.min([x1, x2]) and x_int <= np.max([x1, x2]) and\n",
    "        x_int >= np.min([x3, x4]) and x_int <= np.max([x3, x4]) and\n",
    "        y_int >= np.min([y1, y2]) and y_int <= np.max([y1, y2]) and\n",
    "        y_int >= np.min([y3, y4]) and y_int <= np.max([y3, y4])):\n",
    "        return(0.0)\n",
    "    else:\n",
    "        min_dist = np.min([point_to_line_segment(x1, y1, x3, y3, x4, y4),\n",
    "                           point_to_line_segment(x2, y2, x3, y3, x4, y4),\n",
    "                           point_to_line_segment(x3, y3, x1, y1, x2, y2),\n",
    "                           point_to_line_segment(x4, y4, x1, y1, x2, y2)])\n",
    "        return(min_dist)"
   ]
  },
  {
   "cell_type": "code",
   "execution_count": 99,
   "metadata": {},
   "outputs": [
    {
     "data": {
      "text/plain": [
       "1.0"
      ]
     },
     "execution_count": 99,
     "metadata": {},
     "output_type": "execute_result"
    }
   ],
   "source": [
    "segment_to_segment(0, 0, 0, 1, 1, 0, 1, 1) #vertical, adjacent lines"
   ]
  },
  {
   "cell_type": "code",
   "execution_count": 100,
   "metadata": {},
   "outputs": [
    {
     "data": {
      "text/plain": [
       "1.4142135623730951"
      ]
     },
     "execution_count": 100,
     "metadata": {},
     "output_type": "execute_result"
    }
   ],
   "source": [
    "segment_to_segment(0, 0, 0, 1, 1, 2, 1, 3) #vertical, offset lines"
   ]
  },
  {
   "cell_type": "code",
   "execution_count": 71,
   "metadata": {},
   "outputs": [
    {
     "data": {
      "text/plain": [
       "0"
      ]
     },
     "execution_count": 71,
     "metadata": {},
     "output_type": "execute_result"
    }
   ],
   "source": [
    "segment_to_segment(-1, 0, 1, 0, 0, -1, 0, 1) # intersection"
   ]
  },
  {
   "cell_type": "code",
   "execution_count": 72,
   "metadata": {},
   "outputs": [
    {
     "data": {
      "text/plain": [
       "0"
      ]
     },
     "execution_count": 72,
     "metadata": {},
     "output_type": "execute_result"
    }
   ],
   "source": [
    "segment_to_segment(3e6, 3e6, 3e6+1, 3e6+1, 3e6, 3e6+1, 3e6+1, 3e6) # far from axis"
   ]
  },
  {
   "cell_type": "code",
   "execution_count": 102,
   "metadata": {},
   "outputs": [
    {
     "data": {
      "text/plain": [
       "0"
      ]
     },
     "execution_count": 102,
     "metadata": {},
     "output_type": "execute_result"
    }
   ],
   "source": [
    "segment_to_segment(-3e6, -3e6, -3e6+1, -3e6+1, -3e6, -3e6+1, -3e6+1, -3e6) # far from axis, negative"
   ]
  },
  {
   "cell_type": "code",
   "execution_count": 103,
   "metadata": {},
   "outputs": [
    {
     "data": {
      "text/plain": [
       "0.7071067811865475"
      ]
     },
     "execution_count": 103,
     "metadata": {},
     "output_type": "execute_result"
    }
   ],
   "source": [
    "segment_to_segment(0,0, 1,1, 1,0, 2,1) # diagonal parallel"
   ]
  },
  {
   "cell_type": "code",
   "execution_count": 106,
   "metadata": {},
   "outputs": [
    {
     "data": {
      "text/plain": [
       "1.0"
      ]
     },
     "execution_count": 106,
     "metadata": {},
     "output_type": "execute_result"
    }
   ],
   "source": [
    "segment_to_segment(0,0, 1,1, 2,1, 3,2) # diagonal offset parallel"
   ]
  },
  {
   "cell_type": "code",
   "execution_count": 104,
   "metadata": {},
   "outputs": [
    {
     "data": {
      "text/plain": [
       "0.7071067811865475"
      ]
     },
     "execution_count": 104,
     "metadata": {},
     "output_type": "execute_result"
    }
   ],
   "source": [
    "segment_to_segment(0,0, 1,1, 1,0, 2,0.9) # diagonal off-parallel"
   ]
  },
  {
   "cell_type": "code",
   "execution_count": 108,
   "metadata": {},
   "outputs": [
    {
     "data": {
      "text/plain": [
       "1.0"
      ]
     },
     "execution_count": 108,
     "metadata": {},
     "output_type": "execute_result"
    }
   ],
   "source": [
    "segment_to_segment(0,0, 1,3, 2,3, 3,0) # / \\ shape"
   ]
  },
  {
   "cell_type": "code",
   "execution_count": 109,
   "metadata": {},
   "outputs": [
    {
     "data": {
      "text/plain": [
       "2.0"
      ]
     },
     "execution_count": 109,
     "metadata": {},
     "output_type": "execute_result"
    }
   ],
   "source": [
    "segment_to_segment(0,0, 0,3, 2,3, 3,0) # | \\ shape"
   ]
  },
  {
   "cell_type": "code",
   "execution_count": 110,
   "metadata": {},
   "outputs": [
    {
     "data": {
      "text/plain": [
       "2.2135943621178655"
      ]
     },
     "execution_count": 110,
     "metadata": {},
     "output_type": "execute_result"
    }
   ],
   "source": [
    "segment_to_segment(0,0, 0,2, 2,3, 3,0) # | \\ shape"
   ]
  },
  {
   "cell_type": "code",
   "execution_count": null,
   "metadata": {},
   "outputs": [],
   "source": []
  }
 ],
 "metadata": {
  "kernelspec": {
   "display_name": "Python 3",
   "language": "python",
   "name": "python3"
  },
  "language_info": {
   "codemirror_mode": {
    "name": "ipython",
    "version": 3
   },
   "file_extension": ".py",
   "mimetype": "text/x-python",
   "name": "python",
   "nbconvert_exporter": "python",
   "pygments_lexer": "ipython3",
   "version": "3.6.5"
  }
 },
 "nbformat": 4,
 "nbformat_minor": 2
}
